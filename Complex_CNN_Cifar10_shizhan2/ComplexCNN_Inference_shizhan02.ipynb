{
 "cells": [
  {
   "cell_type": "code",
   "execution_count": 57,
   "metadata": {},
   "outputs": [],
   "source": [
    "%matplotlib inline \n",
    "from tensorflow.examples.tutorials.mnist import input_data\n",
    "from tensorflow.python.framework import graph_util\n",
    "from tensorflow.python.platform import gfile\n",
    "import tensorflow as tf\n",
    "from keras.datasets import cifar10\n",
    "import os\n",
    "from matplotlib import pyplot as plt\n",
    "import numpy as np\n",
    "import cv2 as cv\n",
    "import pylab\n",
    "\n",
    "pylab.rcParams['figure.figsize'] = (1.0, 1.0)\n",
    "pb_file_path = os.getcwd() + '/'\n",
    "\n",
    "batch_size=128\n",
    "max_steps=500\n",
    "nb = -1\n",
    "\n",
    "dict = {\n",
    "    0: 'airplane',\n",
    "    1: 'automobile',\n",
    "    2: 'bird',\n",
    "    3: 'cat',\n",
    "    4: 'deer',\n",
    "    5: 'dog',\n",
    "    6: 'frog',\n",
    "    7: 'horse',\n",
    "    8: 'ship',\n",
    "    9: 'truck'\n",
    "}\n",
    "\n",
    "#想看结果的图片\n",
    "num_batch = 5\n",
    "idx = 15"
   ]
  },
  {
   "cell_type": "code",
   "execution_count": 58,
   "metadata": {},
   "outputs": [],
   "source": [
    "(trainX, trainY), (testX, testY) = cifar10.load_data()\n",
    "def nextBatch():\n",
    "    global nb\n",
    "    nb = nb + 1\n",
    "    if nb == 390:\n",
    "        nb = 0\n",
    "    return trainX[nb*128:(nb+1)*128], np.reshape(trainY[nb*128:(nb+1)*128], (128,))"
   ]
  },
  {
   "cell_type": "code",
   "execution_count": 59,
   "metadata": {},
   "outputs": [
    {
     "name": "stdout",
     "output_type": "stream",
     "text": [
      "Result is:bird\n"
     ]
    }
   ],
   "source": [
    "with tf.Session() as sess:\n",
    "    with gfile.FastGFile(pb_file_path+'complex_cnn_cifar10_model.pb', 'rb') as f:\n",
    "        graph_def = tf.GraphDef()\n",
    "        graph_def.ParseFromString(f.read())\n",
    "        sess.graph.as_default()\n",
    "        tf.import_graph_def(graph_def, name='') # 导入计算图\n",
    "\n",
    "    # 需要有一个初始化的过程    \n",
    "    sess.run(tf.global_variables_initializer())\n",
    "    \n",
    "    sess.run('weight1:0')\n",
    "    sess.run('bias1:0')\n",
    "    sess.run('weight2:0')\n",
    "    sess.run('bias2:0')\n",
    "    sess.run('weight3:0')\n",
    "    sess.run('bias3:0')\n",
    "    sess.run('weight4:0')\n",
    "    sess.run('bias4:0')\n",
    "    sess.run('weight5:0')\n",
    "    sess.run('bias5:0')\n",
    "    \n",
    "    input_x = sess.graph.get_tensor_by_name('image:0')\n",
    "    input_y = sess.graph.get_tensor_by_name('label:0')\n",
    "    \n",
    "    output = sess.graph.get_tensor_by_name('logits:0')\n",
    "    \n",
    "    y_out = output.eval( feed_dict={input_x: testX[num_batch*128:(num_batch+1)*128], input_y: np.reshape(testY[num_batch*128:(num_batch+1)*128], (128,))} )\n",
    "    \n",
    "    print(\"Result is:\" + str(dict[np.argmax(y_out[idx])]))"
   ]
  },
  {
   "cell_type": "code",
   "execution_count": 60,
   "metadata": {},
   "outputs": [
    {
     "name": "stdout",
     "output_type": "stream",
     "text": [
      "bird\n"
     ]
    },
    {
     "data": {
      "image/png": "[encoded data removed]",
      "text/plain": [
       "<Figure size 72x72 with 1 Axes>"
      ]
     },
     "metadata": {
      "needs_background": "light"
     },
     "output_type": "display_data"
    }
   ],
   "source": [
    "plt.imshow(testX[num_batch*128+idx])\n",
    "print(dict[testY[num_batch*128+idx][0]])"
   ]
  },
  {
   "cell_type": "code",
   "execution_count": null,
   "metadata": {},
   "outputs": [],
   "source": []
  },
  {
   "cell_type": "code",
   "execution_count": null,
   "metadata": {},
   "outputs": [],
   "source": []
  },
  {
   "cell_type": "code",
   "execution_count": null,
   "metadata": {},
   "outputs": [],
   "source": []
  }
 ],
 "metadata": {
  "kernelspec": {
   "display_name": "Python 3",
   "language": "python",
   "name": "python3"
  },
  "language_info": {
   "codemirror_mode": {
    "name": "ipython",
    "version": 3
   },
   "file_extension": ".py",
   "mimetype": "text/x-python",
   "name": "python",
   "nbconvert_exporter": "python",
   "pygments_lexer": "ipython3",
   "version": "3.6.8"
  }
 },
 "nbformat": 4,
 "nbformat_minor": 2
}
