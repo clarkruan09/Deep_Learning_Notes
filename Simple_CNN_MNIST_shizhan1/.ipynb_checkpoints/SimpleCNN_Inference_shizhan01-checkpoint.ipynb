{
 "cells": [
  {
   "cell_type": "code",
   "execution_count": 18,
   "metadata": {},
   "outputs": [
    {
     "name": "stdout",
     "output_type": "stream",
     "text": [
      "Extracting MNIST_data/train-images-idx3-ubyte.gz\n",
      "Extracting MNIST_data/train-labels-idx1-ubyte.gz\n",
      "Extracting MNIST_data/t10k-images-idx3-ubyte.gz\n",
      "Extracting MNIST_data/t10k-labels-idx1-ubyte.gz\n"
     ]
    }
   ],
   "source": [
    "%matplotlib inline \n",
    "from tensorflow.examples.tutorials.mnist import input_data\n",
    "from tensorflow.python.framework import graph_util\n",
    "from tensorflow.python.platform import gfile\n",
    "import tensorflow as tf\n",
    "import os\n",
    "from matplotlib import pyplot as plt\n",
    "import numpy as np\n",
    "\n",
    "pb_file_path = os.getcwd() + '/'\n",
    "\n",
    "mnist=input_data.read_data_sets(\"MNIST_data/\",one_hot=True)\n",
    "\n",
    "# 输入想预测的data index\n",
    "idx = 116\n",
    "\n",
    "xx = mnist.test.images[idx:(idx+1)]\n",
    "yy = np.float32(mnist.test.labels[idx:(idx+1)])"
   ]
  },
  {
   "cell_type": "code",
   "execution_count": 19,
   "metadata": {
    "scrolled": true
   },
   "outputs": [
    {
     "name": "stdout",
     "output_type": "stream",
     "text": [
      "Result is:4\n"
     ]
    }
   ],
   "source": [
    "with tf.Session() as sess:\n",
    "    with gfile.FastGFile(pb_file_path+'model.pb', 'rb') as f:\n",
    "        graph_def = tf.GraphDef()\n",
    "        graph_def.ParseFromString(f.read())\n",
    "        sess.graph.as_default()\n",
    "        tf.import_graph_def(graph_def, name='') # 导入计算图\n",
    "\n",
    "    # 需要有一个初始化的过程    \n",
    "    sess.run(tf.global_variables_initializer())\n",
    "\n",
    "    sess.run('weight_conv1:0')\n",
    "    sess.run('bias_conv1:0')\n",
    "    sess.run('weight_conv2:0')\n",
    "    sess.run('bias_conv1:0')\n",
    "    sess.run('weight_fc1:0')\n",
    "    sess.run('bias_fc1:0')\n",
    "    sess.run('weight_out:0')\n",
    "    sess.run('bias_out:0')\n",
    "    \n",
    "    input_x = sess.graph.get_tensor_by_name('x:0')\n",
    "    input_y = sess.graph.get_tensor_by_name('y:0')\n",
    "    kprob = sess.graph.get_tensor_by_name('keep_prob:0')\n",
    "    \n",
    "    output = sess.graph.get_tensor_by_name('out:0')\n",
    "\n",
    "    y_out = output.eval( feed_dict={input_x: xx, input_y: yy, kprob: 1} )\n",
    "    \n",
    "    print(\"Result is:\" + str(np.argmax(y_out)))"
   ]
  },
  {
   "cell_type": "code",
   "execution_count": 20,
   "metadata": {},
   "outputs": [],
   "source": [
    "#placeholders = [ op for op in sess.graph.get_operations() if op.type == \"Placeholder\"]"
   ]
  },
  {
   "cell_type": "code",
   "execution_count": 21,
   "metadata": {},
   "outputs": [
    {
     "data": {
      "image/png": "[encoded data removed]",
      "text/plain": [
       "<Figure size 432x288 with 1 Axes>"
      ]
     },
     "metadata": {
      "needs_background": "light"
     },
     "output_type": "display_data"
    }
   ],
   "source": [
    "x_image=np.reshape(xx,[28,28])\n",
    "plt.imshow(x_image, interpolation='nearest')\n",
    "plt.show()"
   ]
  },
  {
   "cell_type": "code",
   "execution_count": null,
   "metadata": {},
   "outputs": [],
   "source": []
  },
  {
   "cell_type": "code",
   "execution_count": null,
   "metadata": {},
   "outputs": [],
   "source": []
  }
 ],
 "metadata": {
  "kernelspec": {
   "display_name": "Python 3",
   "language": "python",
   "name": "python3"
  },
  "language_info": {
   "codemirror_mode": {
    "name": "ipython",
    "version": 3
   },
   "file_extension": ".py",
   "mimetype": "text/x-python",
   "name": "python",
   "nbconvert_exporter": "python",
   "pygments_lexer": "ipython3",
   "version": "3.6.8"
  }
 },
 "nbformat": 4,
 "nbformat_minor": 2
}
