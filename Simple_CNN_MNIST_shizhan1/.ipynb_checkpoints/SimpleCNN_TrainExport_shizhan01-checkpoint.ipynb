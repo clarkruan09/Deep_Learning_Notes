{
 "cells": [
  {
   "cell_type": "code",
   "execution_count": 1,
   "metadata": {},
   "outputs": [
    {
     "name": "stdout",
     "output_type": "stream",
     "text": [
      "WARNING:tensorflow:From <ipython-input-1-e9824f5fbbc9>:8: read_data_sets (from tensorflow.contrib.learn.python.learn.datasets.mnist) is deprecated and will be removed in a future version.\n",
      "Instructions for updating:\n",
      "Please use alternatives such as official/mnist/dataset.py from tensorflow/models.\n",
      "WARNING:tensorflow:From /anaconda3/lib/python3.6/site-packages/tensorflow/contrib/learn/python/learn/datasets/mnist.py:260: maybe_download (from tensorflow.contrib.learn.python.learn.datasets.base) is deprecated and will be removed in a future version.\n",
      "Instructions for updating:\n",
      "Please write your own downloading logic.\n",
      "WARNING:tensorflow:From /anaconda3/lib/python3.6/site-packages/tensorflow/contrib/learn/python/learn/datasets/mnist.py:262: extract_images (from tensorflow.contrib.learn.python.learn.datasets.mnist) is deprecated and will be removed in a future version.\n",
      "Instructions for updating:\n",
      "Please use tf.data to implement this functionality.\n",
      "Extracting MNIST_data/train-images-idx3-ubyte.gz\n",
      "WARNING:tensorflow:From /anaconda3/lib/python3.6/site-packages/tensorflow/contrib/learn/python/learn/datasets/mnist.py:267: extract_labels (from tensorflow.contrib.learn.python.learn.datasets.mnist) is deprecated and will be removed in a future version.\n",
      "Instructions for updating:\n",
      "Please use tf.data to implement this functionality.\n",
      "Extracting MNIST_data/train-labels-idx1-ubyte.gz\n",
      "WARNING:tensorflow:From /anaconda3/lib/python3.6/site-packages/tensorflow/contrib/learn/python/learn/datasets/mnist.py:110: dense_to_one_hot (from tensorflow.contrib.learn.python.learn.datasets.mnist) is deprecated and will be removed in a future version.\n",
      "Instructions for updating:\n",
      "Please use tf.one_hot on tensors.\n",
      "Extracting MNIST_data/t10k-images-idx3-ubyte.gz\n",
      "Extracting MNIST_data/t10k-labels-idx1-ubyte.gz\n",
      "WARNING:tensorflow:From /anaconda3/lib/python3.6/site-packages/tensorflow/contrib/learn/python/learn/datasets/mnist.py:290: DataSet.__init__ (from tensorflow.contrib.learn.python.learn.datasets.mnist) is deprecated and will be removed in a future version.\n",
      "Instructions for updating:\n",
      "Please use alternatives such as official/mnist/dataset.py from tensorflow/models.\n"
     ]
    }
   ],
   "source": [
    "from tensorflow.examples.tutorials.mnist import input_data\n",
    "from tensorflow.python.framework import graph_util\n",
    "import tensorflow as tf\n",
    "import os\n",
    "\n",
    "pb_file_path = os.getcwd() + '/'\n",
    "\n",
    "mnist=input_data.read_data_sets(\"MNIST_data/\",one_hot=True)"
   ]
  },
  {
   "cell_type": "code",
   "execution_count": 2,
   "metadata": {},
   "outputs": [],
   "source": [
    "def weight_variable(shape, name):\n",
    "    initial=tf.truncated_normal(shape,stddev=0.1)\n",
    "    return tf.Variable(initial, name=name)\n",
    " \n",
    "def bias_variable(shape, name):\n",
    "    initial=tf.constant(0.1,shape=shape)\n",
    "    return tf.Variable(initial, name=name)\n",
    "\n",
    "def conv2d(x,W):\n",
    "    return tf.nn.conv2d(x,W,strides=[1,1,1,1],padding='SAME')\n",
    "def max_pool_2x2(x):\n",
    "    return tf.nn.max_pool(x,ksize=[1,2,2,1],strides=[1,2,2,1],padding='SAME')"
   ]
  },
  {
   "cell_type": "code",
   "execution_count": 3,
   "metadata": {},
   "outputs": [
    {
     "name": "stdout",
     "output_type": "stream",
     "text": [
      "WARNING:tensorflow:From /anaconda3/lib/python3.6/site-packages/tensorflow/python/framework/op_def_library.py:263: colocate_with (from tensorflow.python.framework.ops) is deprecated and will be removed in a future version.\n",
      "Instructions for updating:\n",
      "Colocations handled automatically by placer.\n",
      "WARNING:tensorflow:From <ipython-input-3-42d5f3a64ba8>:28: calling dropout (from tensorflow.python.ops.nn_ops) with keep_prob is deprecated and will be removed in a future version.\n",
      "Instructions for updating:\n",
      "Please use `rate` instead of `keep_prob`. Rate should be set to `rate = 1 - keep_prob`.\n",
      "WARNING:tensorflow:From /anaconda3/lib/python3.6/site-packages/tensorflow/python/ops/math_ops.py:3066: to_int32 (from tensorflow.python.ops.math_ops) is deprecated and will be removed in a future version.\n",
      "Instructions for updating:\n",
      "Use tf.cast instead.\n"
     ]
    }
   ],
   "source": [
    "graph = tf.Graph()\n",
    "with graph.as_default():\n",
    "    \n",
    "    x=tf.placeholder(tf.float32,[None,784], name='x')\n",
    "    y_=tf.placeholder(tf.float32,[None,10], name='y')\n",
    "    x_image=tf.reshape(x,[-1,28,28,1])\n",
    "\n",
    "    # Convolutional Layer 1\n",
    "    W_conv1=weight_variable([5,5,1,32], name=\"weight_conv1\")\n",
    "    b_conv1=bias_variable([32], name=\"bias_conv1\")\n",
    "    h_conv1=tf.nn.relu(conv2d(x_image,W_conv1)+b_conv1, name=\"conv1\")\n",
    "    h_pool1=max_pool_2x2(h_conv1)\n",
    "\n",
    "    # Convolutional Layer 2\n",
    "    W_conv2=weight_variable([5,5,32,64], name=\"weight_conv2\")\n",
    "    b_conv2=bias_variable([64], name=\"bias_conv2\")\n",
    "    h_conv2=tf.nn.relu(conv2d(h_pool1,W_conv2)+b_conv2, name=\"conv2\")\n",
    "    h_pool2=max_pool_2x2(h_conv2)\n",
    "\n",
    "    # Fully Connect Layer 1\n",
    "    W_fc1=weight_variable([7*7*64,1024], name=\"weight_fc1\")\n",
    "    b_fc1=bias_variable([1024], name=\"bias_fc1\")\n",
    "    h_pool2_flat=tf.reshape(h_pool2,[-1,7*7*64])\n",
    "    h_fc1=tf.nn.relu(tf.matmul(h_pool2_flat,W_fc1)+b_fc1, name=\"fc1\")\n",
    "\n",
    "    # Dropout Layer\n",
    "    keep_prob=tf.placeholder(tf.float32, name=\"keep_prob\")\n",
    "    h_fc1_drop=tf.nn.dropout(h_fc1,keep_prob, name=\"dropout1\")\n",
    "\n",
    "    # Output Layer\n",
    "    W_fc2=weight_variable([1024,10], name=\"weight_out\")\n",
    "    b_fc2=bias_variable([10], name=\"bias_out\")\n",
    "    y_conv=tf.nn.softmax(tf.matmul(h_fc1_drop,W_fc2)+b_fc2, name=\"out\")\n",
    "    \n",
    "    # Define Loss(cross_entropy) and Optimizer\n",
    "    cross_entropy=tf.reduce_mean(-tf.reduce_sum(y_*tf.log(y_conv),reduction_indices=[1]), name='loss')\n",
    "    train_step=tf.train.AdamOptimizer(1e-4).minimize(cross_entropy)\n",
    "\n",
    "    # Predict\n",
    "    correct_prediction = tf.equal(tf.argmax(y_conv, 1), tf.argmax(y_, 1))\n",
    "    accuracy = tf.reduce_mean(tf.cast(correct_prediction, tf.float32))"
   ]
  },
  {
   "cell_type": "code",
   "execution_count": 4,
   "metadata": {},
   "outputs": [
    {
     "name": "stdout",
     "output_type": "stream",
     "text": [
      "step 0, training accuracy 0.12\n",
      "step 100, training accuracy 0.78\n",
      "step 200, training accuracy 0.84\n",
      "step 300, training accuracy 0.98\n",
      "step 400, training accuracy 0.96\n",
      "step 500, training accuracy 0.92\n",
      "step 600, training accuracy 0.94\n",
      "step 700, training accuracy 0.96\n",
      "step 800, training accuracy 0.94\n",
      "step 900, training accuracy 0.94\n",
      "step 1000, training accuracy 0.98\n",
      "Epoch 0 - Validation accuracy: 0.9652\n",
      "test accuracy 0.9629\n",
      "WARNING:tensorflow:From <ipython-input-4-c13f77d4a814>:22: convert_variables_to_constants (from tensorflow.python.framework.graph_util_impl) is deprecated and will be removed in a future version.\n",
      "Instructions for updating:\n",
      "Use tf.compat.v1.graph_util.convert_variables_to_constants\n",
      "WARNING:tensorflow:From /anaconda3/lib/python3.6/site-packages/tensorflow/python/framework/graph_util_impl.py:245: extract_sub_graph (from tensorflow.python.framework.graph_util_impl) is deprecated and will be removed in a future version.\n",
      "Instructions for updating:\n",
      "Use tf.compat.v1.graph_util.extract_sub_graph\n",
      "INFO:tensorflow:Froze 8 variables.\n",
      "INFO:tensorflow:Converted 8 variables to const ops.\n",
      "WARNING:tensorflow:From <ipython-input-4-c13f77d4a814>:24: FastGFile.__init__ (from tensorflow.python.platform.gfile) is deprecated and will be removed in a future version.\n",
      "Instructions for updating:\n",
      "Use tf.gfile.GFile.\n"
     ]
    }
   ],
   "source": [
    "num_epoch = 1\n",
    "\n",
    "with tf.Session(graph=graph) as sess:\n",
    "    \n",
    "    sess.run(tf.global_variables_initializer())\n",
    "    \n",
    "    for j in range(num_epoch):\n",
    "        #所有train数据batch走一遍\n",
    "        for i in range(1100):\n",
    "            batch = mnist.train.next_batch(50)\n",
    "            if i % 100 == 0:\n",
    "                train_accuracy = accuracy.eval(feed_dict = {x: batch[0], y_: batch[1], keep_prob: 1.0})\n",
    "                print(\"step %d, training accuracy %g\"%(i, train_accuracy))\n",
    "            train_step.run(feed_dict = {x: batch[0], y_: batch[1], keep_prob: 0.5})\n",
    "            \n",
    "            #print( y_conv.eval( feed_dict = {x: batch[0][0:1], y_: batch[1][0:1], keep_prob: 1.0} ) )\n",
    "\n",
    "        val_accuracy = accuracy.eval(feed_dict = {x: mnist.validation.images, y_: mnist.validation.labels, keep_prob: 1.0})\n",
    "        print(\"Epoch %d - Validation accuracy: %g\"%(j, val_accuracy))\n",
    "    print(\"test accuracy %g\"%accuracy.eval(feed_dict = {x: mnist.test.images, y_: mnist.test.labels, keep_prob: 1.0}))\n",
    "    \n",
    "    constant_graph = graph_util.convert_variables_to_constants(sess, sess.graph_def, ['out', 'loss'])\n",
    "    \n",
    "    with tf.gfile.FastGFile(pb_file_path+'simplemodel.pb', mode='wb') as f:\n",
    "        f.write(constant_graph.SerializeToString())"
   ]
  },
  {
   "cell_type": "code",
   "execution_count": null,
   "metadata": {},
   "outputs": [],
   "source": []
  },
  {
   "cell_type": "code",
   "execution_count": null,
   "metadata": {},
   "outputs": [],
   "source": []
  },
  {
   "cell_type": "code",
   "execution_count": null,
   "metadata": {},
   "outputs": [],
   "source": []
  }
 ],
 "metadata": {
  "kernelspec": {
   "display_name": "Python 3",
   "language": "python",
   "name": "python3"
  },
  "language_info": {
   "codemirror_mode": {
    "name": "ipython",
    "version": 3
   },
   "file_extension": ".py",
   "mimetype": "text/x-python",
   "name": "python",
   "nbconvert_exporter": "python",
   "pygments_lexer": "ipython3",
   "version": "3.6.8"
  }
 },
 "nbformat": 4,
 "nbformat_minor": 2
}
